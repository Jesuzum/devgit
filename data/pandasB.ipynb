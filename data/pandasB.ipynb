{
 "cells": [
  {
   "cell_type": "markdown",
   "metadata": {},
   "source": [
    "Basicos de pandas para data analyst"
   ]
  },
  {
   "cell_type": "code",
   "execution_count": 2,
   "metadata": {},
   "outputs": [],
   "source": [
    "#Importación de librerías\n",
    "import pandas as pd"
   ]
  },
  {
   "cell_type": "code",
   "execution_count": 3,
   "metadata": {},
   "outputs": [],
   "source": [
    "#1. Crear un DataFrame con datos de ejemplo\n",
    "data = {\n",
    "    \"nombre\": [\"Ana\", \"Luis\", \"Carlos\", \"Lucía\", \"Pedro\"],\n",
    "    \"edad\": [23, 35, 30, 29, None],\n",
    "    \"ciudad\": [\"CDMX\", \"GDL\", \"CDMX\", \"MTY\", \"GDL\"],\n",
    "    \"salario\": [12000, 15000, None, 18000, 16000]\n",
    "}\n",
    "\n",
    "df = pd.DataFrame(data)"
   ]
  },
  {
   "cell_type": "code",
   "execution_count": 4,
   "metadata": {},
   "outputs": [
    {
     "name": "stdout",
     "output_type": "stream",
     "text": [
      "Primeras filas:\n",
      "   nombre  edad ciudad  salario\n",
      "0     Ana  23.0   CDMX  12000.0\n",
      "1    Luis  35.0    GDL  15000.0\n",
      "2  Carlos  30.0   CDMX      NaN\n",
      "3   Lucía  29.0    MTY  18000.0\n",
      "4   Pedro   NaN    GDL  16000.0\n",
      "\n",
      "Información general del DataFrame:\n",
      "<class 'pandas.core.frame.DataFrame'>\n",
      "RangeIndex: 5 entries, 0 to 4\n",
      "Data columns (total 4 columns):\n",
      " #   Column   Non-Null Count  Dtype  \n",
      "---  ------   --------------  -----  \n",
      " 0   nombre   5 non-null      object \n",
      " 1   edad     4 non-null      float64\n",
      " 2   ciudad   5 non-null      object \n",
      " 3   salario  4 non-null      float64\n",
      "dtypes: float64(2), object(2)\n",
      "memory usage: 292.0+ bytes\n",
      "None\n",
      "\n",
      "Estadísticas del DataFrame:\n",
      "            edad  salario\n",
      "count   4.000000      4.0\n",
      "mean   29.250000  15250.0\n",
      "std     4.924429   2500.0\n",
      "min    23.000000  12000.0\n",
      "25%    27.500000  14250.0\n",
      "50%    29.500000  15500.0\n",
      "75%    31.250000  16500.0\n",
      "max    35.000000  18000.0\n"
     ]
    }
   ],
   "source": [
    "#2. Explorar el DataFrame\n",
    "print(\"Primeras filas:\")\n",
    "print(df.head())  # Muestra las primeras 5 filas\n",
    "\n",
    "print(\"\\nInformación general del DataFrame:\")\n",
    "print(df.info())  # Tipos de datos y valores nulos\n",
    "\n",
    "print(\"\\nEstadísticas del DataFrame:\")\n",
    "print(df.describe())  # Estadísticas de columnas numéricas"
   ]
  },
  {
   "cell_type": "code",
   "execution_count": 5,
   "metadata": {},
   "outputs": [
    {
     "name": "stdout",
     "output_type": "stream",
     "text": [
      "\n",
      "Seleccionar solo la columna 'nombre':\n",
      "0       Ana\n",
      "1      Luis\n",
      "2    Carlos\n",
      "3     Lucía\n",
      "4     Pedro\n",
      "Name: nombre, dtype: object\n",
      "\n",
      "Seleccionar las columnas 'nombre' y 'edad':\n",
      "   nombre  edad\n",
      "0     Ana  23.0\n",
      "1    Luis  35.0\n",
      "2  Carlos  30.0\n",
      "3   Lucía  29.0\n",
      "4   Pedro   NaN\n"
     ]
    }
   ],
   "source": [
    "#3. Seleccionar columnas\n",
    "print(\"\\nSeleccionar solo la columna 'nombre':\")\n",
    "print(df[\"nombre\"])\n",
    "\n",
    "print(\"\\nSeleccionar las columnas 'nombre' y 'edad':\")\n",
    "print(df[[\"nombre\", \"edad\"]])"
   ]
  },
  {
   "cell_type": "code",
   "execution_count": 6,
   "metadata": {},
   "outputs": [
    {
     "name": "stdout",
     "output_type": "stream",
     "text": [
      "\n",
      "Filtrar personas con edad mayor a 30:\n",
      "  nombre  edad ciudad  salario\n",
      "1   Luis  35.0    GDL  15000.0\n",
      "\n",
      "Filtrar hombres mayores de 30 en GDL (suponiendo que sean Luis y Pedro):\n",
      "  nombre  edad ciudad  salario\n",
      "1   Luis  35.0    GDL  15000.0\n"
     ]
    }
   ],
   "source": [
    "#4. Filtrar filas\n",
    "print(\"\\nFiltrar personas con edad mayor a 30:\")\n",
    "print(df[df[\"edad\"] > 30])\n",
    "\n",
    "print(\"\\nFiltrar hombres mayores de 30 en GDL (suponiendo que sean Luis y Pedro):\")\n",
    "print(df[(df[\"edad\"] > 30) & (df[\"ciudad\"] == \"GDL\")])"
   ]
  },
  {
   "cell_type": "code",
   "execution_count": 7,
   "metadata": {},
   "outputs": [
    {
     "name": "stdout",
     "output_type": "stream",
     "text": [
      "\n",
      "Reemplazamos 'CDMX' por 'Ciudad de México':\n",
      "   nombre  edad            ciudad  salario\n",
      "0     Ana  23.0  Ciudad de México  12000.0\n",
      "1    Luis  35.0               GDL  15000.0\n",
      "2  Carlos  30.0  Ciudad de México      NaN\n",
      "3   Lucía  29.0               MTY  18000.0\n",
      "4   Pedro   NaN               GDL  16000.0\n"
     ]
    },
    {
     "name": "stderr",
     "output_type": "stream",
     "text": [
      "C:\\Users\\Jesus\\AppData\\Local\\Temp\\ipykernel_8476\\1349461072.py:2: FutureWarning: A value is trying to be set on a copy of a DataFrame or Series through chained assignment using an inplace method.\n",
      "The behavior will change in pandas 3.0. This inplace method will never work because the intermediate object on which we are setting values always behaves as a copy.\n",
      "\n",
      "For example, when doing 'df[col].method(value, inplace=True)', try using 'df.method({col: value}, inplace=True)' or df[col] = df[col].method(value) instead, to perform the operation inplace on the original object.\n",
      "\n",
      "\n",
      "  df[\"ciudad\"].replace(\"CDMX\", \"Ciudad de México\", inplace=True)\n"
     ]
    }
   ],
   "source": [
    "#5. Reemplazar valores\n",
    "df[\"ciudad\"].replace(\"CDMX\", \"Ciudad de México\", inplace=True)\n",
    "print(\"\\nReemplazamos 'CDMX' por 'Ciudad de México':\")\n",
    "print(df)"
   ]
  },
  {
   "cell_type": "code",
   "execution_count": 8,
   "metadata": {},
   "outputs": [
    {
     "name": "stdout",
     "output_type": "stream",
     "text": [
      "\n",
      "DataFrame sin valores nulos:\n",
      "  nombre  edad            ciudad  salario\n",
      "0    Ana  23.0  Ciudad de México  12000.0\n",
      "1   Luis  35.0               GDL  15000.0\n",
      "3  Lucía  29.0               MTY  18000.0\n"
     ]
    }
   ],
   "source": [
    "#6. Eliminar filas con valores nulos\n",
    "df_sin_nulos = df.dropna()\n",
    "print(\"\\nDataFrame sin valores nulos:\")\n",
    "print(df_sin_nulos)"
   ]
  },
  {
   "cell_type": "code",
   "execution_count": 9,
   "metadata": {},
   "outputs": [
    {
     "name": "stdout",
     "output_type": "stream",
     "text": [
      "\n",
      "Llenamos valores faltantes con 0:\n",
      "   nombre  edad            ciudad  salario\n",
      "0     Ana  23.0  Ciudad de México  12000.0\n",
      "1    Luis  35.0               GDL  15000.0\n",
      "2  Carlos  30.0  Ciudad de México      0.0\n",
      "3   Lucía  29.0               MTY  18000.0\n",
      "4   Pedro   0.0               GDL  16000.0\n"
     ]
    }
   ],
   "source": [
    "#7. Llenar valores faltantes\n",
    "df.fillna({\"edad\": 0, \"salario\": 0}, inplace=True)\n",
    "print(\"\\nLlenamos valores faltantes con 0:\")\n",
    "print(df)"
   ]
  },
  {
   "cell_type": "code",
   "execution_count": 10,
   "metadata": {},
   "outputs": [
    {
     "name": "stdout",
     "output_type": "stream",
     "text": [
      "\n",
      "Nueva columna 'salario_doble':\n",
      "   nombre  edad            ciudad  salario  salario_doble\n",
      "0     Ana  23.0  Ciudad de México  12000.0        24000.0\n",
      "1    Luis  35.0               GDL  15000.0        30000.0\n",
      "2  Carlos  30.0  Ciudad de México      0.0            0.0\n",
      "3   Lucía  29.0               MTY  18000.0        36000.0\n",
      "4   Pedro   0.0               GDL  16000.0        32000.0\n"
     ]
    }
   ],
   "source": [
    "#8. Agregar nueva columna calculada\n",
    "df[\"salario_doble\"] = df[\"salario\"] * 2\n",
    "print(\"\\nNueva columna 'salario_doble':\")\n",
    "print(df)"
   ]
  },
  {
   "cell_type": "code",
   "execution_count": 11,
   "metadata": {},
   "outputs": [
    {
     "name": "stdout",
     "output_type": "stream",
     "text": [
      "\n",
      "Promedio de salario por ciudad:\n",
      "ciudad\n",
      "Ciudad de México     6000.0\n",
      "GDL                 15500.0\n",
      "MTY                 18000.0\n",
      "Name: salario, dtype: float64\n"
     ]
    }
   ],
   "source": [
    "#9. Agrupar datos por ciudad y calcular promedio de salario\n",
    "print(\"\\nPromedio de salario por ciudad:\")\n",
    "print(df.groupby(\"ciudad\")[\"salario\"].mean())"
   ]
  },
  {
   "cell_type": "code",
   "execution_count": 12,
   "metadata": {},
   "outputs": [
    {
     "name": "stdout",
     "output_type": "stream",
     "text": [
      "\n",
      "DataFrame ordenado por edad (descendente):\n",
      "   nombre  edad            ciudad  salario  salario_doble\n",
      "1    Luis  35.0               GDL  15000.0        30000.0\n",
      "2  Carlos  30.0  Ciudad de México      0.0            0.0\n",
      "3   Lucía  29.0               MTY  18000.0        36000.0\n",
      "0     Ana  23.0  Ciudad de México  12000.0        24000.0\n",
      "4   Pedro   0.0               GDL  16000.0        32000.0\n"
     ]
    }
   ],
   "source": [
    "#10. Ordenar por edad descendente\n",
    "df_ordenado = df.sort_values(\"edad\", ascending=False)\n",
    "print(\"\\nDataFrame ordenado por edad (descendente):\")\n",
    "print(df_ordenado)"
   ]
  },
  {
   "cell_type": "code",
   "execution_count": 13,
   "metadata": {},
   "outputs": [
    {
     "name": "stdout",
     "output_type": "stream",
     "text": [
      "\n",
      "Eliminamos la columna 'salario_doble':\n",
      "   nombre  edad            ciudad  salario\n",
      "0     Ana  23.0  Ciudad de México  12000.0\n",
      "1    Luis  35.0               GDL  15000.0\n",
      "2  Carlos  30.0  Ciudad de México      0.0\n",
      "3   Lucía  29.0               MTY  18000.0\n",
      "4   Pedro   0.0               GDL  16000.0\n"
     ]
    }
   ],
   "source": [
    "#Eliminar columnas\n",
    "df.drop(columns=[\"salario_doble\"], inplace=True)\n",
    "print(\"\\nEliminamos la columna 'salario_doble':\")\n",
    "print(df)"
   ]
  },
  {
   "cell_type": "code",
   "execution_count": 14,
   "metadata": {},
   "outputs": [],
   "source": [
    "#12. Simulamos un segundo DataFrame para hacer un merge (como JOIN en SQL)\n",
    "extra_data = {\n",
    "    \"nombre\": [\"Ana\", \"Luis\", \"Carlos\", \"Lucía\", \"Pedro\"],\n",
    "    \"departamento\": [\"Ventas\", \"TI\", \"Recursos Humanos\", \"TI\", \"Marketing\"]\n",
    "}\n",
    "\n",
    "df_extra = pd.DataFrame(extra_data)"
   ]
  },
  {
   "cell_type": "code",
   "execution_count": 15,
   "metadata": {},
   "outputs": [
    {
     "name": "stdout",
     "output_type": "stream",
     "text": [
      "\n",
      "DataFrame combinado con información extra (JOIN):\n",
      "   nombre  edad            ciudad  salario      departamento\n",
      "0     Ana  23.0  Ciudad de México  12000.0            Ventas\n",
      "1    Luis  35.0               GDL  15000.0                TI\n",
      "2  Carlos  30.0  Ciudad de México      0.0  Recursos Humanos\n",
      "3   Lucía  29.0               MTY  18000.0                TI\n",
      "4   Pedro   0.0               GDL  16000.0         Marketing\n"
     ]
    }
   ],
   "source": [
    "# Hacemos un inner join por la columna 'nombre'\n",
    "df_combinado = pd.merge(df, df_extra, on=\"nombre\", how=\"inner\")\n",
    "print(\"\\nDataFrame combinado con información extra (JOIN):\")\n",
    "print(df_combinado)"
   ]
  }
 ],
 "metadata": {
  "kernelspec": {
   "display_name": "Python 3",
   "language": "python",
   "name": "python3"
  },
  "language_info": {
   "codemirror_mode": {
    "name": "ipython",
    "version": 3
   },
   "file_extension": ".py",
   "mimetype": "text/x-python",
   "name": "python",
   "nbconvert_exporter": "python",
   "pygments_lexer": "ipython3",
   "version": "3.13.2"
  }
 },
 "nbformat": 4,
 "nbformat_minor": 2
}
