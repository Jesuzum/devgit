{
 "cells": [
  {
   "cell_type": "markdown",
   "metadata": {},
   "source": [
    "Basicos de numpy para data analyst"
   ]
  },
  {
   "cell_type": "code",
   "execution_count": 1,
   "metadata": {},
   "outputs": [],
   "source": [
    "# Importamos la librería numpy\n",
    "import numpy as np"
   ]
  },
  {
   "cell_type": "code",
   "execution_count": 2,
   "metadata": {},
   "outputs": [
    {
     "name": "stdout",
     "output_type": "stream",
     "text": [
      "Vector a: [1 2 3 4 5]\n",
      "\n",
      "Matriz 2x3:\n",
      "[[1 2 3]\n",
      " [4 5 6]]\n"
     ]
    }
   ],
   "source": [
    "# 1. Crear arrays (vectores)\n",
    "a = np.array([1, 2, 3, 4, 5])  # Vector de una dimensión\n",
    "print(\"Vector a:\", a)\n",
    "\n",
    "# Array bidimensional (matriz)\n",
    "matriz = np.array([[1, 2, 3], [4, 5, 6]])\n",
    "print(\"\\nMatriz 2x3:\")\n",
    "print(matriz)"
   ]
  },
  {
   "cell_type": "code",
   "execution_count": 3,
   "metadata": {},
   "outputs": [
    {
     "name": "stdout",
     "output_type": "stream",
     "text": [
      "\n",
      "Array de ceros: [0. 0. 0. 0. 0.]\n",
      "Array de unos:\n",
      " [[1. 1. 1.]\n",
      " [1. 1. 1.]]\n",
      "Rango: [0 2 4 6 8]\n",
      "Array aleatorio 3x2:\n",
      " [[0.60674181 0.16900054]\n",
      " [0.9242963  0.81038341]\n",
      " [0.73013232 0.47857416]]\n"
     ]
    }
   ],
   "source": [
    "# 2. Crear arrays especiales\n",
    "\n",
    "ceros = np.zeros(5)         # [0. 0. 0. 0. 0.]\n",
    "unos = np.ones((2, 3))      # Matriz 2x3 llena de 1s\n",
    "rango = np.arange(0, 10, 2) # [0 2 4 6 8]\n",
    "aleatorios = np.random.rand(3, 2)  # Matriz 3x2 con números aleatorios [0,1)\n",
    "\n",
    "print(\"\\nArray de ceros:\", ceros)\n",
    "print(\"Array de unos:\\n\", unos)\n",
    "print(\"Rango:\", rango)\n",
    "print(\"Array aleatorio 3x2:\\n\", aleatorios)"
   ]
  },
  {
   "cell_type": "code",
   "execution_count": 4,
   "metadata": {},
   "outputs": [
    {
     "name": "stdout",
     "output_type": "stream",
     "text": [
      "\n",
      "Suma de vectores: [11 22 33 44 55]\n",
      "Resta: [ 9 18 27 36 45]\n",
      "Producto elemento a elemento: [ 10  40  90 160 250]\n",
      "División: [10. 10. 10. 10. 10.]\n"
     ]
    }
   ],
   "source": [
    "# 3. Operaciones básicas\n",
    "\n",
    "b = np.array([10, 20, 30, 40, 50])\n",
    "\n",
    "print(\"\\nSuma de vectores:\", a + b)        # [11 22 33 44 55]\n",
    "print(\"Resta:\", b - a)                     # [ 9 18 27 36 45]\n",
    "print(\"Producto elemento a elemento:\", a * b)\n",
    "print(\"División:\", b / a)"
   ]
  },
  {
   "cell_type": "code",
   "execution_count": 5,
   "metadata": {},
   "outputs": [
    {
     "name": "stdout",
     "output_type": "stream",
     "text": [
      "\n",
      "Promedio (mean) de a: 3.0\n",
      "Mediana (median) de b: 30.0\n",
      "Desviación estándar: 14.142135623730951\n",
      "Suma total: 150\n"
     ]
    }
   ],
   "source": [
    "# 4. Estadísticas básicas\n",
    "\n",
    "print(\"\\nPromedio (mean) de a:\", np.mean(a))\n",
    "print(\"Mediana (median) de b:\", np.median(b))\n",
    "print(\"Desviación estándar:\", np.std(b))\n",
    "print(\"Suma total:\", np.sum(b))\n"
   ]
  },
  {
   "cell_type": "code",
   "execution_count": 6,
   "metadata": {},
   "outputs": [
    {
     "name": "stdout",
     "output_type": "stream",
     "text": [
      "\n",
      "Primer elemento de a: 1\n",
      "Últimos 3 elementos de b: [30 40 50]\n",
      "Submatriz (2x2):\n",
      " [[1 2]\n",
      " [4 5]]\n"
     ]
    }
   ],
   "source": [
    "# 5. Índices y slicing\n",
    "\n",
    "print(\"\\nPrimer elemento de a:\", a[0])\n",
    "print(\"Últimos 3 elementos de b:\", b[-3:])\n",
    "print(\"Submatriz (2x2):\\n\", matriz[:, :2])  # Dos primeras columnas"
   ]
  },
  {
   "cell_type": "code",
   "execution_count": 7,
   "metadata": {},
   "outputs": [
    {
     "name": "stdout",
     "output_type": "stream",
     "text": [
      "\n",
      "Forma original de matriz: (2, 3)\n",
      "Matriz con nueva forma 3x2:\n",
      " [[1 2]\n",
      " [3 4]\n",
      " [5 6]]\n"
     ]
    }
   ],
   "source": [
    "# 6. Cambiar la forma del array\n",
    "\n",
    "print(\"\\nForma original de matriz:\", matriz.shape)  # (2, 3)\n",
    "matriz_reshaped = matriz.reshape((3, 2))\n",
    "print(\"Matriz con nueva forma 3x2:\\n\", matriz_reshaped)"
   ]
  },
  {
   "cell_type": "code",
   "execution_count": 8,
   "metadata": {},
   "outputs": [
    {
     "name": "stdout",
     "output_type": "stream",
     "text": [
      "\n",
      "Arrays concatenados: [1 2 3 4 5 6]\n"
     ]
    }
   ],
   "source": [
    "# 7. Concatenar arrays\n",
    "\n",
    "x = np.array([1, 2, 3])\n",
    "y = np.array([4, 5, 6])\n",
    "concatenado = np.concatenate((x, y))\n",
    "print(\"\\nArrays concatenados:\", concatenado)"
   ]
  },
  {
   "cell_type": "code",
   "execution_count": 9,
   "metadata": {},
   "outputs": [
    {
     "name": "stdout",
     "output_type": "stream",
     "text": [
      "\n",
      "¿a > 2?: [False False  True  True  True]\n",
      "Elementos mayores a 2: [3 4 5]\n"
     ]
    }
   ],
   "source": [
    "# 8. Comparaciones lógicas\n",
    "\n",
    "print(\"\\n¿a > 2?:\", a > 2)             # Devuelve array de booleanos\n",
    "print(\"Elementos mayores a 2:\", a[a > 2])  # Filtra los valores"
   ]
  },
  {
   "cell_type": "markdown",
   "metadata": {},
   "source": [
    "Concepto\t            ¿Qué deberías saber?\n",
    "\n",
    "np.array\t            Crear vectores o matrices\n",
    "np.mean, np.std\t        Calcular estadísticas rápidas\n",
    "reshape\t                Cambiar la forma de un array\n",
    "random.rand, arange\t    Crear arrays rápidos (aleatorios o secuenciales)\n",
    "Operaciones +, *, etc.\tOperar arrays como si fueran vectores matemáticos"
   ]
  }
 ],
 "metadata": {
  "kernelspec": {
   "display_name": "Python 3",
   "language": "python",
   "name": "python3"
  },
  "language_info": {
   "codemirror_mode": {
    "name": "ipython",
    "version": 3
   },
   "file_extension": ".py",
   "mimetype": "text/x-python",
   "name": "python",
   "nbconvert_exporter": "python",
   "pygments_lexer": "ipython3",
   "version": "3.13.2"
  }
 },
 "nbformat": 4,
 "nbformat_minor": 2
}
