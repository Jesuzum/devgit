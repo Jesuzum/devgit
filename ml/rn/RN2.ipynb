{
 "cells": [
  {
   "cell_type": "markdown",
   "id": "1de690a0",
   "metadata": {},
   "source": [
    "# Algoritmo de gradiente descendiente\n",
    "Es uno de los pilares del entrenamiento de rede neuronales. Es un método de optimización iterativo que se utiliza para minimizar la función de pérdida (error) de la red, ajustando los pesos y sesgos.\n",
    "Busca encontrar los valores óptimos de los parámetros (pesos y sesgos) de una red neuronal mediante la minimización de la función de pérdida. Para ello hace uso deel gradiente (derivada) de dicha función.\n",
    "\n",
    "**Problema del aprendizaje**\n",
    "\n",
    "El probelma de aprendizaje en las redes neuronales se formula en términos de la minimización de la función de error (o pérdida) asociada, y que denotaremos como _F_.\n"
   ]
  }
 ],
 "metadata": {
  "language_info": {
   "name": "python"
  }
 },
 "nbformat": 4,
 "nbformat_minor": 5
}
